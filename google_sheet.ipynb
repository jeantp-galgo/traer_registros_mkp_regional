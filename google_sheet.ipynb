{
 "cells": [
  {
   "cell_type": "code",
   "execution_count": 1,
   "metadata": {},
   "outputs": [
    {
     "data": {
      "text/plain": [
       "True"
      ]
     },
     "execution_count": 1,
     "metadata": {},
     "output_type": "execute_result"
    }
   ],
   "source": [
    "from google_sheet.utils import *\n",
    "from utilidades.registros import *\n",
    "import pandas as pd\n",
    "import os\n",
    "from dotenv import load_dotenv\n",
    "\n",
    "load_dotenv()"
   ]
  },
  {
   "cell_type": "code",
   "execution_count": 2,
   "metadata": {},
   "outputs": [],
   "source": [
    "# Crea una instancia de la clase mongodb_funciones\n",
    "google_sheet_func = google_sheet_funciones()"
   ]
  },
  {
   "cell_type": "code",
   "execution_count": 3,
   "metadata": {},
   "outputs": [],
   "source": [
    "#google_sheet_func.crear_google_sheet(\"Actualizaciones MKP Regional v2\")"
   ]
  },
  {
   "cell_type": "markdown",
   "metadata": {},
   "source": [
    "Google Sheet creado, titulo: Actualizaciones MKP Regional v2\n",
    "URL: https://docs.google.com/spreadsheets/d/1ojqVvl6CTDVGV7k0G63zsBqzRjL2fvZGT7wnuoZeD5I"
   ]
  },
  {
   "cell_type": "code",
   "execution_count": 4,
   "metadata": {},
   "outputs": [
    {
     "name": "stdout",
     "output_type": "stream",
     "text": [
      "Hojas disponibles:\n",
      "- <Spreadsheet 'Actualizaciones MKP Regional version 2' id:1ojqVvl6CTDVGV7k0G63zsBqzRjL2fvZGT7wnuoZeD5I>\n",
      "- <Spreadsheet 'Reporte del MKP Regional' id:1bLl_ZdOZUyF3KIVyocsVuAMenLIK0H03BrkawQS8VlY>\n",
      "- <Spreadsheet 'Reporte solicitudes MKP Regional' id:1NppuLfeLMePNi2Bl5pTlEzw3kjud5C-CPsdv3qJa3hI>\n",
      "- <Spreadsheet 'Actualizaciones MKP Regional v2' id:1ihMoS3BLLiVOwXCdhE1o81VcK8ErHBqBr5nIwn4sTaw>\n",
      "- <Spreadsheet 'pruebaaaaa-sheet' id:1Wjy_TeHSmb2_AmyL18yMnx7tFiyxleGrXCnrYY3ak4c>\n",
      "- <Spreadsheet 'test-sheet' id:1MRvC3sQUVAFBMDaIbcaKm7w49V_bBTTC5jby3YRtGfk>\n"
     ]
    }
   ],
   "source": [
    "google_sheet_func.mostrar_hojas()"
   ]
  },
  {
   "cell_type": "code",
   "execution_count": 17,
   "metadata": {},
   "outputs": [],
   "source": [
    "solicitudes_mx_motos = google_sheet_func.leer_datos_google_sheet(\"Actualizaciones MKP Regional version 2\", \"Solicitudes MX Motos\")"
   ]
  },
  {
   "cell_type": "code",
   "execution_count": 18,
   "metadata": {},
   "outputs": [],
   "source": [
    "solicitudes_cl_autos = google_sheet_func.leer_datos_google_sheet(\"Actualizaciones MKP Regional version 2\", \"Solicitudes CL Autos\")"
   ]
  },
  {
   "cell_type": "code",
   "execution_count": 19,
   "metadata": {},
   "outputs": [],
   "source": [
    "solicitudes_cl_motos = google_sheet_func.leer_datos_google_sheet(\"Actualizaciones MKP Regional version 2\", \"Solicitudes CL Motos\")"
   ]
  },
  {
   "cell_type": "code",
   "execution_count": 20,
   "metadata": {},
   "outputs": [],
   "source": [
    "solicitudes_co_motos = google_sheet_func.leer_datos_google_sheet(\"Actualizaciones MKP Regional version 2\", \"Solicitudes CO Motos\")"
   ]
  },
  {
   "cell_type": "code",
   "execution_count": 21,
   "metadata": {},
   "outputs": [],
   "source": [
    "solicitudes_pe_motos = google_sheet_func.leer_datos_google_sheet(\"Actualizaciones MKP Regional version 2\", \"Solicitudes PE Motos\")"
   ]
  },
  {
   "cell_type": "code",
   "execution_count": 22,
   "metadata": {},
   "outputs": [],
   "source": [
    "df_mx_motos = pd.DataFrame(solicitudes_mx_motos)"
   ]
  },
  {
   "cell_type": "code",
   "execution_count": 23,
   "metadata": {},
   "outputs": [],
   "source": [
    "df_cl_autos = pd.DataFrame(solicitudes_cl_autos)"
   ]
  },
  {
   "cell_type": "markdown",
   "metadata": {},
   "source": [
    "## Motos"
   ]
  },
  {
   "cell_type": "code",
   "execution_count": 24,
   "metadata": {},
   "outputs": [
    {
     "name": "stdout",
     "output_type": "stream",
     "text": [
      "Archivo ./solicitudes/MX Motos/Noviembre 2024/11012024-MX-FZ_3.0_FI_2025.json guardado.\n",
      "Archivo ./solicitudes/MX Motos/Noviembre 2024/11012024-MX-FZ-S_4.0_FI_ABS_2025.json guardado.\n",
      "Total de registros válidos procesados: 2\n"
     ]
    }
   ],
   "source": [
    "crear_registros_json(df_mx_motos, \"MX\", \"MX Motos\")"
   ]
  },
  {
   "cell_type": "code",
   "execution_count": null,
   "metadata": {},
   "outputs": [],
   "source": []
  },
  {
   "cell_type": "markdown",
   "metadata": {},
   "source": [
    "## Autos"
   ]
  },
  {
   "cell_type": "code",
   "execution_count": 39,
   "metadata": {},
   "outputs": [
    {
     "name": "stdout",
     "output_type": "stream",
     "text": [
      "Estado                                                            Pendiente\n",
      "Nombre solicitante                                     Paulina de la Fuente\n",
      "Fecha solicitud                                                   11/3/2024\n",
      "Tipo                                               Nuevo producto comercial\n",
      "Marca                                                                Nissan\n",
      "Modelo                                    March 1.6 SPORT DRIVE HB AC MT 5P\n",
      "Año                                                                    2019\n",
      "Condición                                                             Usado\n",
      "Variaciones                                          Blanco, Celeste, Negro\n",
      "Garantía                                                          Sin datos\n",
      "Precio base                                                       6780000.0\n",
      "Descuento                                                         Sin datos\n",
      "Precio neto                                                         6780000\n",
      "Link carpeta Drive                                                Sin datos\n",
      "Link PDF ficha técnica                                            Sin datos\n",
      "Link web                  https://pompeyousados.cl/web/vehiculos/view?id...\n",
      "Notas                                                             Sin datos\n",
      "Link publicación                                                  Sin datos\n",
      "Comentarios                                                       Sin datos\n",
      "Sin diseño                                                        Sin datos\n",
      "Name: 0, dtype: object\n",
      "CL\n",
      "Archivo ./solicitudes/CL Autos/Noviembre 2024/11032024-CL-March_1.6_SPORT_DRIVE_HB_AC_MT_5P.json guardado.\n",
      "Estado                                                            Pendiente\n",
      "Nombre solicitante                                     Paulina de la Fuente\n",
      "Fecha solicitud                                                   11/3/2024\n",
      "Tipo                                               Nuevo producto comercial\n",
      "Marca                                                                    MG\n",
      "Modelo                                                      MG 3 1.5 STD AT\n",
      "Año                                                                    2022\n",
      "Condición                                                             Usado\n",
      "Variaciones                                                            Azul\n",
      "Garantía                                                          Sin datos\n",
      "Precio base                                                       8180000.0\n",
      "Descuento                                                         Sin datos\n",
      "Precio neto                                                         8180000\n",
      "Link carpeta Drive                                                Sin datos\n",
      "Link PDF ficha técnica                                            Sin datos\n",
      "Link web                  https://pompeyousados.cl/web/vehiculos/view?id...\n",
      "Notas                                                             Sin datos\n",
      "Link publicación                                                  Sin datos\n",
      "Comentarios                                                       Sin datos\n",
      "Sin diseño                                                        Sin datos\n",
      "Name: 1, dtype: object\n",
      "CL\n",
      "Archivo ./solicitudes/CL Autos/Noviembre 2024/11032024-CL-MG_3_1.5_STD_AT.json guardado.\n",
      "Estado                                                            Pendiente\n",
      "Nombre solicitante                                     Paulina de la Fuente\n",
      "Fecha solicitud                                                   11/3/2024\n",
      "Tipo                                               Nuevo producto comercial\n",
      "Marca                                                                   KIA\n",
      "Modelo                                                Morning 1.0 EX ABS MT\n",
      "Año                                                                    2022\n",
      "Condición                                                             Usado\n",
      "Variaciones                                   Celeste, Gris, Negro, Naranjo\n",
      "Garantía                                                          Sin datos\n",
      "Precio base                                                       8180000.0\n",
      "Descuento                                                         Sin datos\n",
      "Precio neto                                                         8180000\n",
      "Link carpeta Drive                                                Sin datos\n",
      "Link PDF ficha técnica                                            Sin datos\n",
      "Link web                  https://pompeyousados.cl/web/vehiculos/view?id...\n",
      "Notas                                                             Sin datos\n",
      "Link publicación                                                  Sin datos\n",
      "Comentarios                                                       Sin datos\n",
      "Sin diseño                                                        Sin datos\n",
      "Name: 2, dtype: object\n",
      "CL\n",
      "Archivo ./solicitudes/CL Autos/Noviembre 2024/11032024-CL-Morning_1.0_EX_ABS_MT.json guardado.\n",
      "Registro 5 incompleto. Faltan los siguientes campos: Variaciones, Link web\n",
      "Registro 6 incompleto. Faltan los siguientes campos: Variaciones, Link web\n",
      "Registro 7 incompleto. Faltan los siguientes campos: Variaciones, Link web\n",
      "Registro 8 incompleto. Faltan los siguientes campos: Variaciones, Link web\n",
      "Estado                                                            Pendiente\n",
      "Nombre solicitante                                     Paulina de la Fuente\n",
      "Fecha solicitud                                                   5/11/2024\n",
      "Tipo                                               Nuevo producto comercial\n",
      "Marca                                                                 Kaiyi\n",
      "Modelo                                 SUV 7 PAX X70 Plus 1.6T GDI 7DCT LUX\n",
      "Año                                                                    2025\n",
      "Condición                                                             Nuevo\n",
      "Variaciones                                         Negro, Rojo, Gris, Azul\n",
      "Garantía                                                          Sin datos\n",
      "Precio base                                                      20990000.0\n",
      "Descuento                                                         1000000.0\n",
      "Precio neto                                                        19990000\n",
      "Link carpeta Drive                                                Sin datos\n",
      "Link PDF ficha técnica    https://jetourchile.cl/documents/7190100/79203...\n",
      "Link web                  https://jetourchile.cl/w/x70-plus?gad_source=1...\n",
      "Notas                                                             Sin datos\n",
      "Link publicación                                                  Sin datos\n",
      "Comentarios                                                       Sin datos\n",
      "Sin diseño                                                              0.0\n",
      "Name: 28, dtype: object\n",
      "CL\n",
      "Archivo ./solicitudes/CL Autos/Noviembre 2024/05112024-CL-SUV_7_PAX_X70_Plus_1.6T_GDI_7DCT_LUX.json guardado.\n",
      "Total de registros válidos procesados: 4\n"
     ]
    }
   ],
   "source": [
    "# crear_registros_json_auto(df_cl_autos, \"CL\", \"CL Autos\")"
   ]
  },
  {
   "cell_type": "code",
   "execution_count": null,
   "metadata": {},
   "outputs": [],
   "source": []
  }
 ],
 "metadata": {
  "kernelspec": {
   "display_name": "venv",
   "language": "python",
   "name": "python3"
  },
  "language_info": {
   "codemirror_mode": {
    "name": "ipython",
    "version": 3
   },
   "file_extension": ".py",
   "mimetype": "text/x-python",
   "name": "python",
   "nbconvert_exporter": "python",
   "pygments_lexer": "ipython3",
   "version": "3.8.0"
  }
 },
 "nbformat": 4,
 "nbformat_minor": 2
}
